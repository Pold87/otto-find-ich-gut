{
 "cells": [
  {
   "cell_type": "code",
   "execution_count": 72,
   "metadata": {
    "collapsed": true
   },
   "outputs": [],
   "source": [
    "import pandas as pd\n",
    "import numpy as np"
   ]
  },
  {
   "cell_type": "markdown",
   "metadata": {},
   "source": [
    "# Log loss"
   ]
  },
  {
   "cell_type": "code",
   "execution_count": 73,
   "metadata": {
    "collapsed": false
   },
   "outputs": [],
   "source": [
    "sample_sub = \"../submissions/sampleSubmission.csv\"\n",
    "sample_sub_df = pd.read_csv(sample_sub)\n",
    "\n",
    "def normalize(row, epsilon=1e-15):\n",
    "    \n",
    "    row = row / np.sum(row)\n",
    "    row = np.maximum(epsilon, row)\n",
    "    row = np.minimum(1 - epsilon, row)\n",
    "    \n",
    "    return row\n",
    "    \n",
    "def logloss_mc(y_true, y_probs):\n",
    "    \n",
    "    # Normalize probability data frame\n",
    "    y_probs = y_probs.apply(normalize, axis=1)\n",
    "        \n",
    "    log_vals = []\n",
    "        \n",
    "    for i, y in enumerate(y_true):\n",
    "        c = int(y.split(\"_\")[1])\n",
    "        log_vals.append(- np.log(y_probs.iloc[i,c - 1]))\n",
    "        \n",
    "    return np.mean(log_vals)"
   ]
  },
  {
   "cell_type": "markdown",
   "metadata": {},
   "source": [
    "# Perform Cross validation"
   ]
  },
  {
   "cell_type": "code",
   "execution_count": 74,
   "metadata": {
    "collapsed": false
   },
   "outputs": [],
   "source": [
    "df_holdout = pd.read_csv(\"../data/holdout20.csv\")\n",
    "y_valid = df_holdout.target"
   ]
  },
  {
   "cell_type": "markdown",
   "metadata": {},
   "source": [
    "# Read submission files"
   ]
  },
  {
   "cell_type": "code",
   "execution_count": 75,
   "metadata": {
    "collapsed": false
   },
   "outputs": [],
   "source": [
    "# Neural network\n",
    "sub1 = pd.read_csv(\"../submissions/nn-0.csv\").iloc[:, 1:]\n",
    "\n",
    "# Gradient boosting\n",
    "sub2 = pd.read_csv(\"../submissions/gbm-2.csv\").iloc[:, 1:]\n",
    "\n",
    "# XGBoost\n",
    "sub3 = pd.read_csv(\"../submission.csv\").iloc[:, 1:]\n",
    "\n",
    "# Random forest\n",
    "# sub3 = pd.read_csv(\"../submissions/rf.csv\")"
   ]
  },
  {
   "cell_type": "markdown",
   "metadata": {},
   "source": [
    "# Integrate submission files"
   ]
  },
  {
   "cell_type": "markdown",
   "metadata": {},
   "source": [
    "# Perform cross validation"
   ]
  },
  {
   "cell_type": "markdown",
   "metadata": {},
   "source": [
    "### Unpolished"
   ]
  },
  {
   "cell_type": "code",
   "execution_count": 36,
   "metadata": {
    "collapsed": false
   },
   "outputs": [
    {
     "data": {
      "text/plain": [
       "0.46934601382607327"
      ]
     },
     "execution_count": 36,
     "metadata": {},
     "output_type": "execute_result"
    }
   ],
   "source": [
    "logloss_mc(y_valid, sub3)"
   ]
  },
  {
   "cell_type": "code",
   "execution_count": 77,
   "metadata": {
    "collapsed": false
   },
   "outputs": [
    {
     "data": {
      "text/plain": [
       "0.55280639537379062"
      ]
     },
     "execution_count": 77,
     "metadata": {},
     "output_type": "execute_result"
    }
   ],
   "source": [
    "# XGBoost polished\n",
    "subpold = pd.read_csv(\"../submission.csv\").iloc[:, 1:]\n",
    "logloss_mc(y_valid, subpold)"
   ]
  },
  {
   "cell_type": "code",
   "execution_count": 35,
   "metadata": {
    "collapsed": false
   },
   "outputs": [
    {
     "data": {
      "text/plain": [
       "17.15635220198109"
      ]
     },
     "execution_count": 35,
     "metadata": {},
     "output_type": "execute_result"
    }
   ],
   "source": [
    "logloss_mc(y_valid, blended.iloc[:, 1:])"
   ]
  },
  {
   "cell_type": "code",
   "execution_count": 38,
   "metadata": {
    "collapsed": false
   },
   "outputs": [
    {
     "data": {
      "text/html": [
       "<div style=\"max-height:1000px;max-width:1500px;overflow:auto;\">\n",
       "<table border=\"1\" class=\"dataframe\">\n",
       "  <thead>\n",
       "    <tr style=\"text-align: right;\">\n",
       "      <th></th>\n",
       "      <th>id</th>\n",
       "      <th>Class_1</th>\n",
       "      <th>Class_2</th>\n",
       "      <th>Class_3</th>\n",
       "      <th>Class_4</th>\n",
       "      <th>Class_5</th>\n",
       "      <th>Class_6</th>\n",
       "      <th>Class_7</th>\n",
       "      <th>Class_8</th>\n",
       "      <th>Class_9</th>\n",
       "    </tr>\n",
       "  </thead>\n",
       "  <tbody>\n",
       "    <tr>\n",
       "      <th>0</th>\n",
       "      <td>17943</td>\n",
       "      <td>0.000132</td>\n",
       "      <td>0.682391</td>\n",
       "      <td>0.210252</td>\n",
       "      <td>0.105317</td>\n",
       "      <td>0.000065</td>\n",
       "      <td>0.000072</td>\n",
       "      <td>0.001245</td>\n",
       "      <td>0.000117</td>\n",
       "      <td>0.000411</td>\n",
       "    </tr>\n",
       "    <tr>\n",
       "      <th>1</th>\n",
       "      <td>30228</td>\n",
       "      <td>0.000054</td>\n",
       "      <td>0.000159</td>\n",
       "      <td>0.000001</td>\n",
       "      <td>0.000753</td>\n",
       "      <td>0.998939</td>\n",
       "      <td>0.000017</td>\n",
       "      <td>0.000050</td>\n",
       "      <td>0.000021</td>\n",
       "      <td>0.000008</td>\n",
       "    </tr>\n",
       "    <tr>\n",
       "      <th>2</th>\n",
       "      <td>42291</td>\n",
       "      <td>0.203585</td>\n",
       "      <td>0.254593</td>\n",
       "      <td>0.007508</td>\n",
       "      <td>0.023410</td>\n",
       "      <td>0.002485</td>\n",
       "      <td>0.194434</td>\n",
       "      <td>0.006647</td>\n",
       "      <td>0.191714</td>\n",
       "      <td>0.115624</td>\n",
       "    </tr>\n",
       "    <tr>\n",
       "      <th>3</th>\n",
       "      <td>35087</td>\n",
       "      <td>0.000105</td>\n",
       "      <td>0.000001</td>\n",
       "      <td>0.000002</td>\n",
       "      <td>0.000022</td>\n",
       "      <td>0.000000</td>\n",
       "      <td>0.999584</td>\n",
       "      <td>0.000011</td>\n",
       "      <td>0.000040</td>\n",
       "      <td>0.000235</td>\n",
       "    </tr>\n",
       "    <tr>\n",
       "      <th>4</th>\n",
       "      <td>9278</td>\n",
       "      <td>0.001799</td>\n",
       "      <td>0.317972</td>\n",
       "      <td>0.291889</td>\n",
       "      <td>0.315345</td>\n",
       "      <td>0.001590</td>\n",
       "      <td>0.003426</td>\n",
       "      <td>0.066562</td>\n",
       "      <td>0.000686</td>\n",
       "      <td>0.000730</td>\n",
       "    </tr>\n",
       "  </tbody>\n",
       "</table>\n",
       "</div>"
      ],
      "text/plain": [
       "      id   Class_1   Class_2   Class_3   Class_4   Class_5   Class_6  \\\n",
       "0  17943  0.000132  0.682391  0.210252  0.105317  0.000065  0.000072   \n",
       "1  30228  0.000054  0.000159  0.000001  0.000753  0.998939  0.000017   \n",
       "2  42291  0.203585  0.254593  0.007508  0.023410  0.002485  0.194434   \n",
       "3  35087  0.000105  0.000001  0.000002  0.000022  0.000000  0.999584   \n",
       "4   9278  0.001799  0.317972  0.291889  0.315345  0.001590  0.003426   \n",
       "\n",
       "    Class_7   Class_8   Class_9  \n",
       "0  0.001245  0.000117  0.000411  \n",
       "1  0.000050  0.000021  0.000008  \n",
       "2  0.006647  0.191714  0.115624  \n",
       "3  0.000011  0.000040  0.000235  \n",
       "4  0.066562  0.000686  0.000730  "
      ]
     },
     "execution_count": 38,
     "metadata": {},
     "output_type": "execute_result"
    }
   ],
   "source": [
    "sub1.head()"
   ]
  },
  {
   "cell_type": "code",
   "execution_count": null,
   "metadata": {
    "collapsed": true
   },
   "outputs": [],
   "source": []
  }
 ],
 "metadata": {
  "kernelspec": {
   "display_name": "Python 2",
   "language": "python",
   "name": "python2"
  },
  "language_info": {
   "codemirror_mode": {
    "name": "ipython",
    "version": 2
   },
   "file_extension": ".py",
   "mimetype": "text/x-python",
   "name": "python",
   "nbconvert_exporter": "python",
   "pygments_lexer": "ipython2",
   "version": "2.7.9"
  }
 },
 "nbformat": 4,
 "nbformat_minor": 0
}

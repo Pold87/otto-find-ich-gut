{
 "cells": [
  {
   "cell_type": "markdown",
   "metadata": {},
   "source": [
    "# Postprocess"
   ]
  },
  {
   "cell_type": "code",
   "execution_count": 3,
   "metadata": {
    "collapsed": false
   },
   "outputs": [],
   "source": [
    "import pandas as pd\n",
    "import numpy as np"
   ]
  },
  {
   "cell_type": "markdown",
   "metadata": {},
   "source": [
    "# Log loss"
   ]
  },
  {
   "cell_type": "code",
   "execution_count": 4,
   "metadata": {
    "collapsed": true
   },
   "outputs": [],
   "source": [
    "sample_sub = \"../submissions/sampleSubmission.csv\"\n",
    "sample_sub_df = pd.read_csv(sample_sub)\n",
    "\n",
    "def normalize(row, epsilon=1e-15):\n",
    "    \n",
    "    row = row / np.sum(row)\n",
    "    row = np.maximum(epsilon, row)\n",
    "    row = np.minimum(1 - epsilon, row)\n",
    "    \n",
    "    return row\n",
    "    \n",
    "def logloss_mc(y_true, y_probs):\n",
    "    \n",
    "    # Normalize probability data frame\n",
    "    y_probs = y_probs.apply(normalize, axis=1)\n",
    "        \n",
    "    log_vals = []\n",
    "        \n",
    "    for i, y in enumerate(y_true):\n",
    "        c = int(y.split(\"_\")[1])\n",
    "        log_vals.append(- np.log(y_probs.iloc[i,c - 1]))\n",
    "        \n",
    "    return np.mean(log_vals)"
   ]
  },
  {
   "cell_type": "markdown",
   "metadata": {},
   "source": [
    "# Perform cross"
   ]
  },
  {
   "cell_type": "code",
   "execution_count": 3,
   "metadata": {
    "collapsed": true
   },
   "outputs": [],
   "source": [
    "df_holdout = pd.read_csv(\"../data/holdout20.csv\")\n",
    "y_valid = df_holdout.target"
   ]
  },
  {
   "cell_type": "code",
   "execution_count": 135,
   "metadata": {
    "collapsed": true
   },
   "outputs": [],
   "source": [
    "sub = pd.read_csv(\"../submission.csv\")"
   ]
  },
  {
   "cell_type": "code",
   "execution_count": 75,
   "metadata": {
    "collapsed": false
   },
   "outputs": [],
   "source": [
    "def polish(x, t1=0.95, t1f=1,\n",
    "              t2=0.9, t2f=1,\n",
    "              t3=0.85, t3f=1,\n",
    "              t4=0.8, t4f=1,\n",
    "              t5=0.75, t5f=1,\n",
    "              t6=0.7, t6f=1,\n",
    "              t7=0.65, t7f=1,\n",
    "              t8=0.6, t8f=1,\n",
    "              t9=0.55, t9f=1,\n",
    "              t10=0.50, t10f=1,\n",
    "              t11=0.45, t11f=1,\n",
    "              t12=0.40, t12f=1,\n",
    "              t13=0.35, t13f=1,\n",
    "              t14=0.30, t14f=1,\n",
    "              t15=0.25, t15f=1,\n",
    "              t16=0.20, t16f=1,\n",
    "              t17=0.15, t17f=1,\n",
    "              t18=0.10, t18f=1,\n",
    "              t19=0.05, t19f=1,):\n",
    "    if x > t1:\n",
    "        return t1f * x\n",
    "    elif x > t2:\n",
    "        return t2f * x\n",
    "    elif x > t3:\n",
    "        return t3f * x\n",
    "    elif x > t4:\n",
    "        return t4f * x\n",
    "    elif x > t5:\n",
    "        return t5f * x\n",
    "    elif x > t6:\n",
    "        return t6f * x\n",
    "    elif x > t7:\n",
    "        return t7f * x\n",
    "    elif x > t8:\n",
    "        return t8f * x\n",
    "    elif x > t9:\n",
    "        return t9f * x\n",
    "    elif x > t10:\n",
    "        return t10f * x\n",
    "    elif x > t11:\n",
    "        return t11f * x\n",
    "    elif x > t12:\n",
    "        return t12f * x\n",
    "    elif x > t13:\n",
    "        return t13f * x\n",
    "    elif x > t14:\n",
    "        return t14f * x\n",
    "    elif x > t15:\n",
    "        return t15f * x\n",
    "    elif x > t16:\n",
    "        return t16f * x\n",
    "    elif x > t17:\n",
    "        return t7f * x\n",
    "    elif x > t18:\n",
    "        return t18f * x\n",
    "    elif x > t19:\n",
    "        return t19f * x\n",
    "    else:\n",
    "        return x\n",
    "    \n"
   ]
  },
  {
   "cell_type": "code",
   "execution_count": 91,
   "metadata": {
    "collapsed": false
   },
   "outputs": [],
   "source": [
    "def polish_helper(x, threshold, delta, factor):\n",
    "    if abs(x - threshold) < delta:\n",
    "        return x * factor\n",
    "    else:\n",
    "        return x\n",
    "\n",
    "\n",
    "def polish_nice(low=0.5,\n",
    "                high=1.5,\n",
    "                steps_values=21,\n",
    "                start=0.00,\n",
    "                stop=0.20,\n",
    "                steps_space=21):\n",
    "    \n",
    "    # Threshold factors (tfs)\n",
    "    thresholdfactors = np.linspace(low, high, steps_values)\n",
    "    \n",
    "    # Thresholds\n",
    "    thresholds = np.linspace(start, stop, steps_space)\n",
    "    \n",
    "    for threshold in thresholds:\n",
    "        print \"threshold is:\", threshold\n",
    "        values = []\n",
    "        for factor in thresholdfactors:\n",
    "\n",
    "            out = pd.concat([sub.id, sub.iloc[:, 1:]\n",
    "                             .applymap(functools.\n",
    "                                       partial(polish_helper,\n",
    "                                               threshold=threshold,\n",
    "                                               delta=(thresholdfactors[1] - thresholdfactors[0]) / 2,\n",
    "                                               factor=factor))],\n",
    "                            axis = 1)\n",
    "\n",
    "            out.to_csv(\"../sub_polished.csv\", index=False)\n",
    "\n",
    "\n",
    "            subpolished = pd.read_csv(\"../sub_polished.csv\").iloc[:, 1:]\n",
    "            ll = logloss_mc(y_valid, subpolished)\n",
    "\n",
    "            values.append(ll)\n",
    "\n",
    "        print \"value min\", np.min(values)\n",
    "        print \"best tf\", thresholdfactors[np.argmin(values)]"
   ]
  },
  {
   "cell_type": "code",
   "execution_count": 92,
   "metadata": {
    "collapsed": false
   },
   "outputs": [
    {
     "name": "stdout",
     "output_type": "stream",
     "text": [
      "threshold is: 0.0\n",
      "value min 0.466758252597\n",
      "best tf 0.75\n",
      "threshold is: 0.01\n",
      "value min 0.466565898206\n",
      "best tf 0.75\n",
      "threshold is: 0.02\n",
      "value min 0.466854450827\n",
      "best tf 0.8\n",
      "threshold is: 0.03\n",
      "value min 0.467189490233\n",
      "best tf 0.9\n",
      "threshold is: 0.04\n",
      "value min 0.467369589664\n",
      "best tf 1.0\n",
      "threshold is: 0.05\n",
      "value min 0.467338120658\n",
      "best tf 1.05\n",
      "threshold is: 0.06\n",
      "value min 0.467183238965\n",
      "best tf 1.15\n",
      "threshold is: 0.07\n",
      "value min 0.46727237363\n",
      "best tf 1.1\n",
      "threshold is: 0.08\n",
      "value min 0.467273258297\n",
      "best tf 1.1\n",
      "threshold is: 0.09\n",
      "value min 0.467273965208\n",
      "best tf 1.1\n",
      "threshold is: 0.1\n",
      "value min 0.467283610758\n",
      "best tf 1.1\n",
      "threshold is: 0.11\n",
      "value min 0.467253770468\n",
      "best tf 1.15\n",
      "threshold is: 0.12\n",
      "value min 0.46699557185\n",
      "best tf 1.25\n",
      "threshold is: 0.13\n",
      "value min 0.466931774757\n",
      "best tf 1.25\n",
      "threshold is: 0.14\n",
      "value min 0.466925471624\n",
      "best tf 1.25\n",
      "threshold is: 0.15\n",
      "value min 0.467038369582\n",
      "best tf 1.25\n",
      "threshold is: 0.16\n",
      "value min 0.466991999754\n",
      "best tf 1.25\n",
      "threshold is: 0.17\n",
      "value min 0.467247562972\n",
      "best tf 1.15\n",
      "threshold is: 0.18\n",
      "value min 0.467232434855\n",
      "best tf 1.15\n",
      "threshold is: 0.19\n",
      "value min 0.467194329208\n",
      "best tf 1.15\n",
      "threshold is: 0.2\n",
      "value min 0.467137427857\n",
      "best tf 1.2\n"
     ]
    }
   ],
   "source": [
    "polish_nice()"
   ]
  },
  {
   "cell_type": "code",
   "execution_count": 73,
   "metadata": {
    "collapsed": false
   },
   "outputs": [
    {
     "name": "stdout",
     "output_type": "stream",
     "text": [
      "t is: 13\n",
      "value min 0.467258267743\n",
      "best tf 1.125\n",
      "t is: 14\n",
      "value min 0.467321482246\n",
      "best tf 1.08333333333\n",
      "t is: 15\n",
      "value min 0.467362815805\n",
      "best tf 1.04166666667\n",
      "t is: 16\n",
      "value min 0.466944844933\n",
      "best tf 1.29166666667\n",
      "t is: 17\n",
      "value min 0.467369589664\n",
      "best tf 0.5\n",
      "t is: 18\n",
      "value min 0.467041311062\n",
      "best tf 1.20833333333\n",
      "t is: 19\n",
      "value min 0.467236273787\n",
      "best tf 1.125\n",
      "t is: 20\n"
     ]
    },
    {
     "ename": "TypeError",
     "evalue": "(\"polish() got an unexpected keyword argument 't20f'\", u'occurred at index Class_1')",
     "output_type": "error",
     "traceback": [
      "\u001b[1;31m---------------------------------------------------------------------------\u001b[0m",
      "\u001b[1;31mTypeError\u001b[0m                                 Traceback (most recent call last)",
      "\u001b[1;32m<ipython-input-73-49b7d37668e0>\u001b[0m in \u001b[0;36m<module>\u001b[1;34m()\u001b[0m\n\u001b[0;32m     11\u001b[0m                          .applymap(functools.\n\u001b[0;32m     12\u001b[0m                                    partial(polish,\n\u001b[1;32m---> 13\u001b[1;33m                                            ** {\"t\" + str(t) + \"f\" : tf}))],\n\u001b[0m\u001b[0;32m     14\u001b[0m                         axis = 1)\n\u001b[0;32m     15\u001b[0m \u001b[1;33m\u001b[0m\u001b[0m\n",
      "\u001b[1;32m/usr/lib/python2.7/site-packages/pandas/core/frame.pyc\u001b[0m in \u001b[0;36mapplymap\u001b[1;34m(self, func)\u001b[0m\n\u001b[0;32m   3856\u001b[0m                 \u001b[0mx\u001b[0m \u001b[1;33m=\u001b[0m \u001b[0mlib\u001b[0m\u001b[1;33m.\u001b[0m\u001b[0mmap_infer\u001b[0m\u001b[1;33m(\u001b[0m\u001b[0m_values_from_object\u001b[0m\u001b[1;33m(\u001b[0m\u001b[0mx\u001b[0m\u001b[1;33m)\u001b[0m\u001b[1;33m,\u001b[0m \u001b[0mf\u001b[0m\u001b[1;33m)\u001b[0m\u001b[1;33m\u001b[0m\u001b[0m\n\u001b[0;32m   3857\u001b[0m             \u001b[1;32mreturn\u001b[0m \u001b[0mlib\u001b[0m\u001b[1;33m.\u001b[0m\u001b[0mmap_infer\u001b[0m\u001b[1;33m(\u001b[0m\u001b[0m_values_from_object\u001b[0m\u001b[1;33m(\u001b[0m\u001b[0mx\u001b[0m\u001b[1;33m)\u001b[0m\u001b[1;33m,\u001b[0m \u001b[0mfunc\u001b[0m\u001b[1;33m)\u001b[0m\u001b[1;33m\u001b[0m\u001b[0m\n\u001b[1;32m-> 3858\u001b[1;33m         \u001b[1;32mreturn\u001b[0m \u001b[0mself\u001b[0m\u001b[1;33m.\u001b[0m\u001b[0mapply\u001b[0m\u001b[1;33m(\u001b[0m\u001b[0minfer\u001b[0m\u001b[1;33m)\u001b[0m\u001b[1;33m\u001b[0m\u001b[0m\n\u001b[0m\u001b[0;32m   3859\u001b[0m \u001b[1;33m\u001b[0m\u001b[0m\n\u001b[0;32m   3860\u001b[0m     \u001b[1;31m#----------------------------------------------------------------------\u001b[0m\u001b[1;33m\u001b[0m\u001b[1;33m\u001b[0m\u001b[0m\n",
      "\u001b[1;32m/usr/lib/python2.7/site-packages/pandas/core/frame.pyc\u001b[0m in \u001b[0;36mapply\u001b[1;34m(self, func, axis, broadcast, raw, reduce, args, **kwds)\u001b[0m\n\u001b[0;32m   3687\u001b[0m                     \u001b[1;32mif\u001b[0m \u001b[0mreduce\u001b[0m \u001b[1;32mis\u001b[0m \u001b[0mNone\u001b[0m\u001b[1;33m:\u001b[0m\u001b[1;33m\u001b[0m\u001b[0m\n\u001b[0;32m   3688\u001b[0m                         \u001b[0mreduce\u001b[0m \u001b[1;33m=\u001b[0m \u001b[0mTrue\u001b[0m\u001b[1;33m\u001b[0m\u001b[0m\n\u001b[1;32m-> 3689\u001b[1;33m                     \u001b[1;32mreturn\u001b[0m \u001b[0mself\u001b[0m\u001b[1;33m.\u001b[0m\u001b[0m_apply_standard\u001b[0m\u001b[1;33m(\u001b[0m\u001b[0mf\u001b[0m\u001b[1;33m,\u001b[0m \u001b[0maxis\u001b[0m\u001b[1;33m,\u001b[0m \u001b[0mreduce\u001b[0m\u001b[1;33m=\u001b[0m\u001b[0mreduce\u001b[0m\u001b[1;33m)\u001b[0m\u001b[1;33m\u001b[0m\u001b[0m\n\u001b[0m\u001b[0;32m   3690\u001b[0m             \u001b[1;32melse\u001b[0m\u001b[1;33m:\u001b[0m\u001b[1;33m\u001b[0m\u001b[0m\n\u001b[0;32m   3691\u001b[0m                 \u001b[1;32mreturn\u001b[0m \u001b[0mself\u001b[0m\u001b[1;33m.\u001b[0m\u001b[0m_apply_broadcast\u001b[0m\u001b[1;33m(\u001b[0m\u001b[0mf\u001b[0m\u001b[1;33m,\u001b[0m \u001b[0maxis\u001b[0m\u001b[1;33m)\u001b[0m\u001b[1;33m\u001b[0m\u001b[0m\n",
      "\u001b[1;32m/usr/lib/python2.7/site-packages/pandas/core/frame.pyc\u001b[0m in \u001b[0;36m_apply_standard\u001b[1;34m(self, func, axis, ignore_failures, reduce)\u001b[0m\n\u001b[0;32m   3777\u001b[0m             \u001b[1;32mtry\u001b[0m\u001b[1;33m:\u001b[0m\u001b[1;33m\u001b[0m\u001b[0m\n\u001b[0;32m   3778\u001b[0m                 \u001b[1;32mfor\u001b[0m \u001b[0mi\u001b[0m\u001b[1;33m,\u001b[0m \u001b[0mv\u001b[0m \u001b[1;32min\u001b[0m \u001b[0menumerate\u001b[0m\u001b[1;33m(\u001b[0m\u001b[0mseries_gen\u001b[0m\u001b[1;33m)\u001b[0m\u001b[1;33m:\u001b[0m\u001b[1;33m\u001b[0m\u001b[0m\n\u001b[1;32m-> 3779\u001b[1;33m                     \u001b[0mresults\u001b[0m\u001b[1;33m[\u001b[0m\u001b[0mi\u001b[0m\u001b[1;33m]\u001b[0m \u001b[1;33m=\u001b[0m \u001b[0mfunc\u001b[0m\u001b[1;33m(\u001b[0m\u001b[0mv\u001b[0m\u001b[1;33m)\u001b[0m\u001b[1;33m\u001b[0m\u001b[0m\n\u001b[0m\u001b[0;32m   3780\u001b[0m                     \u001b[0mkeys\u001b[0m\u001b[1;33m.\u001b[0m\u001b[0mappend\u001b[0m\u001b[1;33m(\u001b[0m\u001b[0mv\u001b[0m\u001b[1;33m.\u001b[0m\u001b[0mname\u001b[0m\u001b[1;33m)\u001b[0m\u001b[1;33m\u001b[0m\u001b[0m\n\u001b[0;32m   3781\u001b[0m             \u001b[1;32mexcept\u001b[0m \u001b[0mException\u001b[0m \u001b[1;32mas\u001b[0m \u001b[0me\u001b[0m\u001b[1;33m:\u001b[0m\u001b[1;33m\u001b[0m\u001b[0m\n",
      "\u001b[1;32m/usr/lib/python2.7/site-packages/pandas/core/frame.pyc\u001b[0m in \u001b[0;36minfer\u001b[1;34m(x)\u001b[0m\n\u001b[0;32m   3855\u001b[0m                 \u001b[0mf\u001b[0m \u001b[1;33m=\u001b[0m \u001b[0mcom\u001b[0m\u001b[1;33m.\u001b[0m\u001b[0mi8_boxer\u001b[0m\u001b[1;33m(\u001b[0m\u001b[0mx\u001b[0m\u001b[1;33m)\u001b[0m\u001b[1;33m\u001b[0m\u001b[0m\n\u001b[0;32m   3856\u001b[0m                 \u001b[0mx\u001b[0m \u001b[1;33m=\u001b[0m \u001b[0mlib\u001b[0m\u001b[1;33m.\u001b[0m\u001b[0mmap_infer\u001b[0m\u001b[1;33m(\u001b[0m\u001b[0m_values_from_object\u001b[0m\u001b[1;33m(\u001b[0m\u001b[0mx\u001b[0m\u001b[1;33m)\u001b[0m\u001b[1;33m,\u001b[0m \u001b[0mf\u001b[0m\u001b[1;33m)\u001b[0m\u001b[1;33m\u001b[0m\u001b[0m\n\u001b[1;32m-> 3857\u001b[1;33m             \u001b[1;32mreturn\u001b[0m \u001b[0mlib\u001b[0m\u001b[1;33m.\u001b[0m\u001b[0mmap_infer\u001b[0m\u001b[1;33m(\u001b[0m\u001b[0m_values_from_object\u001b[0m\u001b[1;33m(\u001b[0m\u001b[0mx\u001b[0m\u001b[1;33m)\u001b[0m\u001b[1;33m,\u001b[0m \u001b[0mfunc\u001b[0m\u001b[1;33m)\u001b[0m\u001b[1;33m\u001b[0m\u001b[0m\n\u001b[0m\u001b[0;32m   3858\u001b[0m         \u001b[1;32mreturn\u001b[0m \u001b[0mself\u001b[0m\u001b[1;33m.\u001b[0m\u001b[0mapply\u001b[0m\u001b[1;33m(\u001b[0m\u001b[0minfer\u001b[0m\u001b[1;33m)\u001b[0m\u001b[1;33m\u001b[0m\u001b[0m\n\u001b[0;32m   3859\u001b[0m \u001b[1;33m\u001b[0m\u001b[0m\n",
      "\u001b[1;32mpandas/src/inference.pyx\u001b[0m in \u001b[0;36mpandas.lib.map_infer (pandas/lib.c:56990)\u001b[1;34m()\u001b[0m\n",
      "\u001b[1;31mTypeError\u001b[0m: (\"polish() got an unexpected keyword argument 't20f'\", u'occurred at index Class_1')"
     ]
    }
   ],
   "source": [
    "import functools\n",
    "\n",
    "searchspace = np.linspace(0.5, 1.5, 25)\n",
    "\n",
    "for t in range(13, 20, 1):\n",
    "    print \"t is:\", t\n",
    "    values = []\n",
    "    for tf in searchspace:\n",
    "\n",
    "        out = pd.concat([sub.id, sub.iloc[:, 1:]\n",
    "                         .applymap(functools.\n",
    "                                   partial(polish,\n",
    "                                           ** {\"t\" + str(t) + \"f\" : tf}))],\n",
    "                        axis = 1)\n",
    "\n",
    "        out.to_csv(\"../sub_polished.csv\", index=False)\n",
    "\n",
    "\n",
    "        subpolished = pd.read_csv(\"../sub_polished.csv\").iloc[:, 1:]\n",
    "        ll = logloss_mc(y_valid, subpolished)\n",
    "\n",
    "        values.append(ll)\n",
    "    \n",
    "    print \"value min\", np.min(values)\n",
    "    print \"best tf\", searchspace[np.argmin(values)]"
   ]
  },
  {
   "cell_type": "code",
   "execution_count": 74,
   "metadata": {
    "collapsed": false
   },
   "outputs": [
    {
     "name": "stdout",
     "output_type": "stream",
     "text": [
      "0.466604701191\n"
     ]
    }
   ],
   "source": [
    "out = pd.concat([sub.id, sub.iloc[:, 1:]\n",
    "                 .applymap(functools.partial(polish,\n",
    "                                             t1f=0.95,\n",
    "                                             t2f=0.91,\n",
    "                                             t3f=0.958,\n",
    "                                             t4f=0.75,\n",
    "                                             t5f=0.958,\n",
    "                                             t6f=0.75))],\n",
    "                axis = 1)\n",
    "\n",
    "out.to_csv(\"../sub_polished.csv\", index=False)\n",
    "\n",
    "\n",
    "subpolished = pd.read_csv(\"../sub_polished.csv\").iloc[:, 1:]\n",
    "ll = logloss_mc(y_valid, subpolished)\n",
    "print ll"
   ]
  },
  {
   "cell_type": "code",
   "execution_count": 95,
   "metadata": {
    "collapsed": false
   },
   "outputs": [
    {
     "name": "stdout",
     "output_type": "stream",
     "text": [
      "0.467369589664\n"
     ]
    }
   ],
   "source": [
    "out = pd.concat([sub.id, sub.iloc[:, 1:]\n",
    "                 .applymap(functools.partial(polish))],\n",
    "                axis = 1)\n",
    "\n",
    "out.to_csv(\"../submission.csv\", index=False)\n",
    "\n",
    "\n",
    "subpolished = pd.read_csv(\"../sub_polished.csv\").iloc[:, 1:]\n",
    "ll = logloss_mc(y_valid, subpolished)\n",
    "print ll"
   ]
  },
  {
   "cell_type": "code",
   "execution_count": 138,
   "metadata": {
    "collapsed": false
   },
   "outputs": [
    {
     "name": "stdout",
     "output_type": "stream",
     "text": [
      "0.47190473488\n"
     ]
    }
   ],
   "source": [
    "thresholds = np.linspace(0, 0.2,21)    \n",
    "factors = [0.75,\n",
    "0.75,\n",
    "0.8,\n",
    "0.9,\n",
    "1,\n",
    "1.05,\n",
    "1.15,\n",
    "1.1,\n",
    "1.1,\n",
    "1.1,\n",
    "1.1,\n",
    "1.15,\n",
    "1.25,\n",
    "1.25,\n",
    "1.25,\n",
    "1.25,\n",
    "1.25,\n",
    "1.15,\n",
    "1.15,\n",
    "1.15,\n",
    "1.1]\n",
    "    \n",
    "out = sub\n",
    "    \n",
    "for threshold, factor in zip(thresholds, factors):\n",
    "\n",
    "    out = pd.concat([out.id, out.iloc[:, 1:]\n",
    "                     .applymap(functools.partial(polish_helper,\n",
    "                                                threshold = threshold,\n",
    "                                                delta = (thresholds[1] - thresholds[0]) / 2,\n",
    "                                                factor = factor))],\n",
    "                    axis = 1)\n",
    "\n",
    "out.to_csv(\"../sub_niceley_polished.csv\", index=False)\n",
    "\n",
    "\n",
    "subpolished = pd.read_csv(\"../sub_niceley_polished.csv\").iloc[:, 1:]\n",
    "ll = logloss_mc(y_valid, subpolished)\n",
    "print ll"
   ]
  },
  {
   "cell_type": "code",
   "execution_count": 146,
   "metadata": {
    "collapsed": false
   },
   "outputs": [
    {
     "name": "stdout",
     "output_type": "stream",
     "text": [
      "0.467369589664\n"
     ]
    }
   ],
   "source": [
    "def polish_helper1(x, threshold, delta, factor):\n",
    "    if abs(x - threshold) < delta:\n",
    "        return x * factor\n",
    "    else:\n",
    "        return x\n",
    "\n",
    "\n",
    "thresholds = np.linspace(0.8, 1, 10)    \n",
    "factors = [0.1, 0.1, 0.1, 0.1, 0.1]\n",
    "    \n",
    "out = sub\n",
    "    \n",
    "for threshold, factor in zip(thresholds, factors):\n",
    "\n",
    "    out = pd.concat([out.id, out.iloc[:, 1:]\n",
    "                     .applymap(functools.partial(polish_helper1,\n",
    "                                                threshold = threshold,\n",
    "                                                delta = 2,\n",
    "                                                factor = factor))],\n",
    "                    axis = 1)\n",
    "\n",
    "out.to_csv(\"../sub_niceley_polished.csv\", index=False)\n",
    "\n",
    "\n",
    "subpolished = pd.read_csv(\"../sub_niceley_polished.csv\").iloc[:, 1:]\n",
    "ll = logloss_mc(y_valid, subpolished)\n",
    "print ll"
   ]
  },
  {
   "cell_type": "code",
   "execution_count": 40,
   "metadata": {
    "collapsed": false
   },
   "outputs": [],
   "source": [
    "import functools\n",
    "\n",
    "def polish_helper1(x, delta, factor):\n",
    "    if x < delta:\n",
    "        return x * factor\n",
    "    else:\n",
    "        return x\n",
    "    \n",
    "unpolished = pd.read_csv(\"../IPython_Submissions/master_submission.csv\")\n",
    "\n",
    "factor = 2.35\n",
    "\n",
    "out = pd.concat([unpolished.id, unpolished.iloc[:, 1:]\n",
    "                     .applymap(functools.partial(polish_helper1,\n",
    "                                                delta = 0.07,\n",
    "                                                factor = factor))],\n",
    "                    axis = 1)\n",
    "\n",
    "out.to_csv(\"../master_polished.csv\", index=False)"
   ]
  },
  {
   "cell_type": "code",
   "execution_count": 41,
   "metadata": {
    "collapsed": false
   },
   "outputs": [
    {
     "data": {
      "text/html": [
       "<div style=\"max-height:1000px;max-width:1500px;overflow:auto;\">\n",
       "<table border=\"1\" class=\"dataframe\">\n",
       "  <thead>\n",
       "    <tr style=\"text-align: right;\">\n",
       "      <th></th>\n",
       "      <th>id</th>\n",
       "      <th>Class_1</th>\n",
       "      <th>Class_2</th>\n",
       "      <th>Class_3</th>\n",
       "      <th>Class_4</th>\n",
       "      <th>Class_5</th>\n",
       "      <th>Class_6</th>\n",
       "      <th>Class_7</th>\n",
       "      <th>Class_8</th>\n",
       "      <th>Class_9</th>\n",
       "    </tr>\n",
       "  </thead>\n",
       "  <tbody>\n",
       "    <tr>\n",
       "      <th>0</th>\n",
       "      <td>1</td>\n",
       "      <td>0.000257</td>\n",
       "      <td>0.245998</td>\n",
       "      <td>0.255722</td>\n",
       "      <td>0.492349</td>\n",
       "      <td>0.000103</td>\n",
       "      <td>0.000197</td>\n",
       "      <td>0.005170</td>\n",
       "      <td>0.000068</td>\n",
       "      <td>0.000135</td>\n",
       "    </tr>\n",
       "    <tr>\n",
       "      <th>1</th>\n",
       "      <td>2</td>\n",
       "      <td>0.000927</td>\n",
       "      <td>0.001515</td>\n",
       "      <td>0.000506</td>\n",
       "      <td>0.000418</td>\n",
       "      <td>0.004140</td>\n",
       "      <td>0.601189</td>\n",
       "      <td>0.001217</td>\n",
       "      <td>0.377244</td>\n",
       "      <td>0.012844</td>\n",
       "    </tr>\n",
       "    <tr>\n",
       "      <th>2</th>\n",
       "      <td>3</td>\n",
       "      <td>0.000002</td>\n",
       "      <td>0.000001</td>\n",
       "      <td>0.000002</td>\n",
       "      <td>0.000001</td>\n",
       "      <td>0.000000</td>\n",
       "      <td>0.999909</td>\n",
       "      <td>0.000003</td>\n",
       "      <td>0.000076</td>\n",
       "      <td>0.000005</td>\n",
       "    </tr>\n",
       "    <tr>\n",
       "      <th>3</th>\n",
       "      <td>4</td>\n",
       "      <td>0.000073</td>\n",
       "      <td>0.745357</td>\n",
       "      <td>0.249500</td>\n",
       "      <td>0.003799</td>\n",
       "      <td>0.000053</td>\n",
       "      <td>0.000206</td>\n",
       "      <td>0.000461</td>\n",
       "      <td>0.000233</td>\n",
       "      <td>0.000317</td>\n",
       "    </tr>\n",
       "    <tr>\n",
       "      <th>4</th>\n",
       "      <td>5</td>\n",
       "      <td>0.255303</td>\n",
       "      <td>0.000037</td>\n",
       "      <td>0.000024</td>\n",
       "      <td>0.000010</td>\n",
       "      <td>0.000040</td>\n",
       "      <td>0.001849</td>\n",
       "      <td>0.000646</td>\n",
       "      <td>0.021916</td>\n",
       "      <td>0.720174</td>\n",
       "    </tr>\n",
       "  </tbody>\n",
       "</table>\n",
       "</div>"
      ],
      "text/plain": [
       "   id   Class_1   Class_2   Class_3   Class_4   Class_5   Class_6   Class_7  \\\n",
       "0   1  0.000257  0.245998  0.255722  0.492349  0.000103  0.000197  0.005170   \n",
       "1   2  0.000927  0.001515  0.000506  0.000418  0.004140  0.601189  0.001217   \n",
       "2   3  0.000002  0.000001  0.000002  0.000001  0.000000  0.999909  0.000003   \n",
       "3   4  0.000073  0.745357  0.249500  0.003799  0.000053  0.000206  0.000461   \n",
       "4   5  0.255303  0.000037  0.000024  0.000010  0.000040  0.001849  0.000646   \n",
       "\n",
       "    Class_8   Class_9  \n",
       "0  0.000068  0.000135  \n",
       "1  0.377244  0.012844  \n",
       "2  0.000076  0.000005  \n",
       "3  0.000233  0.000317  \n",
       "4  0.021916  0.720174  "
      ]
     },
     "execution_count": 41,
     "metadata": {},
     "output_type": "execute_result"
    }
   ],
   "source": [
    "unpolished.head()"
   ]
  },
  {
   "cell_type": "code",
   "execution_count": 43,
   "metadata": {
    "collapsed": false
   },
   "outputs": [
    {
     "data": {
      "text/html": [
       "<div style=\"max-height:1000px;max-width:1500px;overflow:auto;\">\n",
       "<table border=\"1\" class=\"dataframe\">\n",
       "  <thead>\n",
       "    <tr style=\"text-align: right;\">\n",
       "      <th></th>\n",
       "      <th>id</th>\n",
       "      <th>Class_1</th>\n",
       "      <th>Class_2</th>\n",
       "      <th>Class_3</th>\n",
       "      <th>Class_4</th>\n",
       "      <th>Class_5</th>\n",
       "      <th>Class_6</th>\n",
       "      <th>Class_7</th>\n",
       "      <th>Class_8</th>\n",
       "      <th>Class_9</th>\n",
       "    </tr>\n",
       "  </thead>\n",
       "  <tbody>\n",
       "    <tr>\n",
       "      <th>0</th>\n",
       "      <td>1</td>\n",
       "      <td>0.000605</td>\n",
       "      <td>0.245998</td>\n",
       "      <td>0.255722</td>\n",
       "      <td>0.492349</td>\n",
       "      <td>0.000242</td>\n",
       "      <td>0.000463</td>\n",
       "      <td>0.012150</td>\n",
       "      <td>0.000159</td>\n",
       "      <td>0.000318</td>\n",
       "    </tr>\n",
       "    <tr>\n",
       "      <th>1</th>\n",
       "      <td>2</td>\n",
       "      <td>0.002179</td>\n",
       "      <td>0.003559</td>\n",
       "      <td>0.001188</td>\n",
       "      <td>0.000981</td>\n",
       "      <td>0.009730</td>\n",
       "      <td>0.601189</td>\n",
       "      <td>0.002860</td>\n",
       "      <td>0.377244</td>\n",
       "      <td>0.030183</td>\n",
       "    </tr>\n",
       "    <tr>\n",
       "      <th>2</th>\n",
       "      <td>3</td>\n",
       "      <td>0.000004</td>\n",
       "      <td>0.000003</td>\n",
       "      <td>0.000005</td>\n",
       "      <td>0.000002</td>\n",
       "      <td>0.000001</td>\n",
       "      <td>0.999909</td>\n",
       "      <td>0.000008</td>\n",
       "      <td>0.000179</td>\n",
       "      <td>0.000012</td>\n",
       "    </tr>\n",
       "    <tr>\n",
       "      <th>3</th>\n",
       "      <td>4</td>\n",
       "      <td>0.000172</td>\n",
       "      <td>0.745357</td>\n",
       "      <td>0.249500</td>\n",
       "      <td>0.008927</td>\n",
       "      <td>0.000125</td>\n",
       "      <td>0.000485</td>\n",
       "      <td>0.001084</td>\n",
       "      <td>0.000548</td>\n",
       "      <td>0.000745</td>\n",
       "    </tr>\n",
       "    <tr>\n",
       "      <th>4</th>\n",
       "      <td>5</td>\n",
       "      <td>0.255303</td>\n",
       "      <td>0.000087</td>\n",
       "      <td>0.000056</td>\n",
       "      <td>0.000023</td>\n",
       "      <td>0.000095</td>\n",
       "      <td>0.004346</td>\n",
       "      <td>0.001518</td>\n",
       "      <td>0.051503</td>\n",
       "      <td>0.720174</td>\n",
       "    </tr>\n",
       "  </tbody>\n",
       "</table>\n",
       "</div>"
      ],
      "text/plain": [
       "   id   Class_1   Class_2   Class_3   Class_4   Class_5   Class_6   Class_7  \\\n",
       "0   1  0.000605  0.245998  0.255722  0.492349  0.000242  0.000463  0.012150   \n",
       "1   2  0.002179  0.003559  0.001188  0.000981  0.009730  0.601189  0.002860   \n",
       "2   3  0.000004  0.000003  0.000005  0.000002  0.000001  0.999909  0.000008   \n",
       "3   4  0.000172  0.745357  0.249500  0.008927  0.000125  0.000485  0.001084   \n",
       "4   5  0.255303  0.000087  0.000056  0.000023  0.000095  0.004346  0.001518   \n",
       "\n",
       "    Class_8   Class_9  \n",
       "0  0.000159  0.000318  \n",
       "1  0.377244  0.030183  \n",
       "2  0.000179  0.000012  \n",
       "3  0.000548  0.000745  \n",
       "4  0.051503  0.720174  "
      ]
     },
     "execution_count": 43,
     "metadata": {},
     "output_type": "execute_result"
    }
   ],
   "source": [
    "out.head()"
   ]
  },
  {
   "cell_type": "code",
   "execution_count": 65,
   "metadata": {
    "collapsed": false
   },
   "outputs": [
    {
     "name": "stdout",
     "output_type": "stream",
     "text": [
      "0.548825669935\n",
      "0.592876486859\n"
     ]
    }
   ],
   "source": [
    "import functools\n",
    "\n",
    "df_holdout = pd.read_csv(\"../data/holdout20.csv\")\n",
    "y_valid = df_holdout.target\n",
    "\n",
    "def polish_helper1(x, delta):\n",
    "    if x < delta:\n",
    "        return np.sqrt(x)\n",
    "    else:\n",
    "        return x\n",
    "    \n",
    "unpolished = pd.read_csv(\"../submissions/nn-0.csv\")\n",
    "ll = logloss_mc(y_valid, unpolished.iloc[:, 1:])\n",
    "print ll\n",
    "\n",
    "\n",
    "out = pd.concat([unpolished.id, unpolished.iloc[:, 1:]\n",
    "                     .applymap(functools.partial(polish_helper1,\n",
    "                                                delta = 0.05))],\n",
    "                    axis = 1)\n",
    "\n",
    "out.to_csv(\"../afterwards.csv\", index=False)\n",
    "\n",
    "afterwards = pd.read_csv(\"../afterwards.csv\").iloc[:, 1:]\n",
    "ll = logloss_mc(y_valid, afterwards)\n",
    "print ll\n",
    "\n"
   ]
  }
 ],
 "metadata": {
  "kernelspec": {
   "display_name": "Python 2",
   "language": "python",
   "name": "python2"
  },
  "language_info": {
   "codemirror_mode": {
    "name": "ipython",
    "version": 2
   },
   "file_extension": ".py",
   "mimetype": "text/x-python",
   "name": "python",
   "nbconvert_exporter": "python",
   "pygments_lexer": "ipython2",
   "version": "2.7.9"
  }
 },
 "nbformat": 4,
 "nbformat_minor": 0
}

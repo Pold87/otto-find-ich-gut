{
 "cells": [
  {
   "cell_type": "markdown",
   "metadata": {},
   "source": [
    "# Gradient Boosting"
   ]
  },
  {
   "cell_type": "code",
   "execution_count": 14,
   "metadata": {
    "collapsed": true
   },
   "outputs": [],
   "source": [
    "import graphlab as gl\n",
    "import pandas as pd\n",
    "import numpy as np\n",
    "import os"
   ]
  },
  {
   "cell_type": "code",
   "execution_count": 15,
   "metadata": {
    "collapsed": false
   },
   "outputs": [],
   "source": [
    "df_train = pd.read_csv(\"../data/train80.csv\").iloc[:, 1:]\n",
    "df_test = pd.read_csv(\"../data/holdout20.csv\")"
   ]
  },
  {
   "cell_type": "code",
   "execution_count": 16,
   "metadata": {
    "collapsed": false
   },
   "outputs": [
    {
     "name": "stdout",
     "output_type": "stream",
     "text": [
      "PROGRESS: Finished parsing file /home/pold/Documents/Radboud/otto-find-ich-gut/submissions/sampleSubmission.csv\n",
      "PROGRESS: Parsing completed. Parsed 100 lines in 0.19 secs.\n",
      "------------------------------------------------------\n",
      "Inferred types from first line of file as \n",
      "column_type_hints=[int,int,int,int,int,int,int,int,int,int]\n",
      "If parsing fails due to incorrect types, you can correct\n",
      "the inferred type list above and pass it to read_csv in\n",
      "the column_type_hints argument\n",
      "------------------------------------------------------\n",
      "PROGRESS: Finished parsing file /home/pold/Documents/Radboud/otto-find-ich-gut/submissions/sampleSubmission.csv\n",
      "PROGRESS: Parsing completed. Parsed 144368 lines in 0.11 secs.\n",
      "PROGRESS: Boosted trees classifier:\n",
      "PROGRESS: --------------------------------------------------------\n",
      "PROGRESS: Number of examples          : 49503\n",
      "PROGRESS: Number of classes           : 9\n",
      "PROGRESS: Number of feature columns   : 92\n",
      "PROGRESS: Number of unpacked features : 92\n",
      "PROGRESS: Starting Boosted Trees\n",
      "PROGRESS: --------------------------------------------------------\n",
      "PROGRESS:   Iter    Accuracy Elapsed time\n",
      "PROGRESS:      0   7.791e-01       21.33s\n",
      "PROGRESS:      1   8.154e-01       41.71s\n",
      "PROGRESS:      2   8.348e-01       63.85s\n",
      "PROGRESS:      3   8.483e-01       89.30s\n",
      "PROGRESS:      4   8.602e-01      110.51s\n",
      "PROGRESS:      5   8.708e-01      130.12s\n",
      "PROGRESS:      6   8.802e-01      156.37s\n",
      "PROGRESS:      7   8.892e-01      179.20s\n"
     ]
    }
   ],
   "source": [
    "# Load the data\n",
    "\n",
    "train = gl.SFrame(df_train.iloc[:,1:])\n",
    "test = gl.SFrame(df_test.iloc[:,1:-1])\n",
    "sample = gl.SFrame.read_csv('../submissions/sampleSubmission.csv')\n",
    "\n",
    "# Train a model\n",
    "m = gl.boosted_trees_classifier.create(dataset = train,\n",
    "                                       target='target',\n",
    "                                       max_iterations=8,\n",
    "                                       max_depth = 50,\n",
    "                                       row_subsample = 0.92,\n",
    "                                       column_subsample = 0.80,\n",
    "                                       min_loss_reduction = 1.05,\n",
    "                                       min_child_weight = 6,\n",
    "                                       validation_set = None)\n",
    " \n",
    "# Make submission\n",
    "preds = m.predict_topk(test, output_type='probability', k=9)\n",
    "preds['id'] = preds['id'].astype(int) + 1\n",
    "preds = preds.unstack(['class', 'probability'], 'probs').unpack('probs', '')\n",
    "preds = preds.sort('id')\n",
    "\n",
    "# Save to file\n",
    "i = 0\n",
    "while os.path.exists(os.path.join(\"..\", \"submissions\", \"gbm-\" + str(i) + \".csv\")):\n",
    "    i += 1\n",
    "preds.save(os.path.join(\"..\", \"submissions\", \"gbm-\" + str(i) + \".csv\"), format = 'csv')"
   ]
  },
  {
   "cell_type": "code",
   "execution_count": null,
   "metadata": {
    "collapsed": true
   },
   "outputs": [],
   "source": []
  }
 ],
 "metadata": {
  "kernelspec": {
   "display_name": "Python 2",
   "language": "python",
   "name": "python2"
  },
  "language_info": {
   "codemirror_mode": {
    "name": "ipython",
    "version": 2
   },
   "file_extension": ".py",
   "mimetype": "text/x-python",
   "name": "python",
   "nbconvert_exporter": "python",
   "pygments_lexer": "ipython2",
   "version": "2.7.9"
  }
 },
 "nbformat": 4,
 "nbformat_minor": 0
}

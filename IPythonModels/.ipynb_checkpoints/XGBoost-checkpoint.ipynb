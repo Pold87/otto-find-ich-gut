{
 "cells": [
  {
   "cell_type": "code",
   "execution_count": 2,
   "metadata": {
    "collapsed": true
   },
   "outputs": [],
   "source": [
    "from __future__ import division\n",
    "import sys\n",
    "\n",
    "import xgboost as xgb\n",
    "\n",
    "import numpy as np\n",
    "import pandas as pd\n",
    "\n",
    "from sklearn.preprocessing import LabelEncoder\n",
    "\n",
    "from hyperopt import fmin, tpe, hp, Trials, STATUS_OK"
   ]
  },
  {
   "cell_type": "code",
   "execution_count": 37,
   "metadata": {
    "collapsed": false
   },
   "outputs": [],
   "source": [
    "np.random.seed(83415)\n",
    "\n",
    "encoder = LabelEncoder()\n",
    "\n",
    "def load_train_data(path='../data/train80.csv'):\n",
    "    df = pd.read_csv(path)\n",
    "    X_train = df.iloc[:, 1:-1]\n",
    "    y_train = df.target\n",
    "    y_train_enc = encoder.fit_transform(y_train)\n",
    "    return X_train.astype(float), y_train_enc.astype(float)\n",
    "\n",
    "\n",
    "def load_test_data(path=\"../data/holdout20.csv\"):\n",
    "    df = pd.read_csv(path)\n",
    "    \n",
    "    X_test, ids, y_valid = df.iloc[:, 1:-1], df.id, df.target\n",
    "    \n",
    "    y_valid_enc = encoder.fit_transform(y_valid)\n",
    "\n",
    "    return X_test.astype(float), ids.astype(str), y_valid_enc.astype(float), y_valid.astype(str)\n",
    "\n",
    "\n",
    "def save(ypred):\n",
    "    df = pd.DataFrame(ypred, columns=['Class_{}'.format(i)\n",
    "                                       for i in range(1, 10)],\n",
    "                      index=np.arange(len(ypred)))\n",
    "    outfile = \"xgboostpython.csv\"\n",
    "    df.to_csv(outfile, header=True, index_label='id')\n",
    "\n",
    "    \n",
    "X_train, y_train = load_train_data()\n",
    "X_valid, ids, y_valid_enc, y_valid = load_test_data()\n",
    "\n",
    "xg_train = xgb.DMatrix(X_train, label=y_train)\n",
    "xg_valid = xgb.DMatrix(X_valid, label=y_valid_enc)"
   ]
  },
  {
   "cell_type": "code",
   "execution_count": 34,
   "metadata": {
    "collapsed": true
   },
   "outputs": [],
   "source": [
    "sample_sub = \"../submissions/sampleSubmission.csv\"\n",
    "sample_sub_df = pd.read_csv(sample_sub)\n",
    "\n",
    "def normalize(row, epsilon=1e-15):\n",
    "    \n",
    "    row = row / np.sum(row)\n",
    "    row = np.maximum(epsilon, row)\n",
    "    row = np.minimum(1 - epsilon, row)\n",
    "    \n",
    "    return row\n",
    "    \n",
    "def logloss_mc(y_true, y_probs):\n",
    "    \n",
    "    # Normalize probability data frame\n",
    "    y_probs = y_probs.apply(normalize, axis=1)\n",
    "        \n",
    "    log_vals = []\n",
    "        \n",
    "    for i, y in enumerate(y_true):\n",
    "        c = int(y.split(\"_\")[1])\n",
    "        log_vals.append(- np.log(y_probs.iloc[i,c - 1]))\n",
    "        \n",
    "    return np.mean(log_vals)"
   ]
  },
  {
   "cell_type": "code",
   "execution_count": null,
   "metadata": {
    "collapsed": false
   },
   "outputs": [
    {
     "name": "stdout",
     "output_type": "stream",
     "text": [
      "Log loss is: 1.09538848999\n",
      "Log loss is:"
     ]
    }
   ],
   "source": [
    "space = {\n",
    "\n",
    "    \"set.seed\": 42,\n",
    "    \"objective\": \"multi:softprob\",\n",
    "    \"eval_metric\": \"mlogloss\",\n",
    "    \"num_class\": 9,\n",
    "    \"nthread\": 2,\n",
    "    \"silent\": 1,\n",
    "\n",
    "    \"max_depth\": hp.quniform('depth', 8, 12, 1),\n",
    "    \"eta\": hp.uniform('eta', 0.001, 0.2),\n",
    "    \"subsample\": hp.uniform('subsample', 0.7, 1),\n",
    "    \"colsample_bytree\": hp.uniform('colsample', 0.7, 1),\n",
    "    \"gamma\": hp.uniform('gamma', 0.0, 1),\n",
    "    \"min_child_weight\": hp.quniform('childweight', 3, 10, 1),\n",
    "    \"max_delta_step\": hp.quniform('delta', 0, 3, 1)\n",
    "\n",
    "}\n",
    "\n",
    "\n",
    "def objective(hyperparameter):\n",
    "    num_round = 250\n",
    "    bst = xgb.train(hyperparameter, xg_train, num_round)\n",
    "    ypred = bst.predict(xg_valid)\n",
    "    save(ypred)\n",
    "    sub = pd.read_csv(\"xgboostpython.csv\").iloc[:, 1:]\n",
    "    ll = logloss_mc(y_valid, sub)\n",
    "    print \"Log loss is:\", ll\n",
    "    return {'loss': ll,\n",
    "            'status': STATUS_OK}\n",
    "\n",
    "\n",
    "trials = Trials()\n",
    "\n",
    "best = fmin(fn=objective,\n",
    "            space=space,\n",
    "            algo=tpe.suggest,\n",
    "            max_evals=100,\n",
    "            trials=trials)\n",
    "\n",
    "print(best)"
   ]
  },
  {
   "cell_type": "code",
   "execution_count": 36,
   "metadata": {
    "collapsed": false
   },
   "outputs": [
    {
     "data": {
      "text/plain": [
       "array(['0.0', '0.0', '0.0', ..., '8.0', '8.0', '8.0'], \n",
       "      dtype='|S32')"
      ]
     },
     "execution_count": 36,
     "metadata": {},
     "output_type": "execute_result"
    }
   ],
   "source": [
    "y_valid"
   ]
  }
 ],
 "metadata": {
  "kernelspec": {
   "display_name": "Python 2",
   "language": "python",
   "name": "python2"
  },
  "language_info": {
   "codemirror_mode": {
    "name": "ipython",
    "version": 2
   },
   "file_extension": ".py",
   "mimetype": "text/x-python",
   "name": "python",
   "nbconvert_exporter": "python",
   "pygments_lexer": "ipython2",
   "version": "2.7.9"
  }
 },
 "nbformat": 4,
 "nbformat_minor": 0
}

{
 "cells": [
  {
   "cell_type": "code",
   "execution_count": 90,
   "metadata": {
    "collapsed": true
   },
   "outputs": [],
   "source": [
    "import pandas as pd\n",
    "import numpy as np\n",
    "from sklearn.cross_validation import train_test_split"
   ]
  },
  {
   "cell_type": "markdown",
   "metadata": {},
   "source": [
    "# Calculate multiclass logloss"
   ]
  },
  {
   "cell_type": "code",
   "execution_count": 71,
   "metadata": {
    "collapsed": true
   },
   "outputs": [],
   "source": [
    "sample_sub = \"submissions/sampleSubmission.csv\"\n",
    "sample_sub_df = pd.read_csv(sample_sub)\n",
    "\n",
    "def normalize(row, epsilon=1e-15):\n",
    "    \n",
    "    row = row / np.sum(row)\n",
    "    row = np.maximum(epsilon, row)\n",
    "    row = np.minimum(1 - epsilon, row)\n",
    "    \n",
    "def logloss_mc(y_true, y_probs):\n",
    "    \n",
    "    # Normalize probability data frame\n",
    "    y_probs.apply(normalize, axis=1)\n",
    "        \n",
    "    log_vals = []\n",
    "        \n",
    "    for i, y in enumerate(y_true):\n",
    "        c = int(y.split(\"_\")[1])\n",
    "        log_vals.append(- np.log(y_probs.iloc[i,c - 1]))\n",
    "        \n",
    "    print(log_vals)\n",
    "        \n",
    "    return -np.mean(log_vals)\n",
    "        \n",
    "        "
   ]
  },
  {
   "cell_type": "markdown",
   "metadata": {},
   "source": [
    "# Split into train and test set"
   ]
  },
  {
   "cell_type": "code",
   "execution_count": 83,
   "metadata": {
    "collapsed": false
   },
   "outputs": [],
   "source": [
    "import random\n",
    "\n",
    "def train_test_split(df, leave_out_size = 0.2):\n",
    "    \n",
    "    num_samples = int(len(df) * (1 - leave_out_size))\n",
    "    sample_rows = random.sample(df.index, num_samples)\n",
    "    \n",
    "    train = df.ix[sample_rows].drop([\"target\"], axis = 1)\n",
    "    test = df.ix[-sample_rows].drop([\"target\"], axis = 1)\n",
    "    train_labels = df.ix[sample_rows].target\n",
    "    test_labels = df.ix[-sample_rows].target\n",
    "    return train, test, train_labels, test_labels "
   ]
  },
  {
   "cell_type": "code",
   "execution_count": 91,
   "metadata": {
    "collapsed": true
   },
   "outputs": [],
   "source": [
    "def load_train_data(df, train_size=0.8, percentage=1, standardize=False):\n",
    "\n",
    "    if standardize:\n",
    "        X = df.drop(['id', 'target'], axis=1).apply(func=log_normalize, axis=1)\n",
    "        X = StandardScaler().fit_transform(X)\n",
    "        X = pd.DataFrame(X)\n",
    "        X.loc[:, 'id'] = df.loc[:, 'id']\n",
    "        X.loc[:, 'target'] = df.loc[:, 'target']\n",
    "        df = X\n",
    "        \n",
    "    num_samples = int(len(df) * percentage)\n",
    "    \n",
    "    sample_rows = random.sample(df.index, num_samples)\n",
    "\n",
    "    df_sampled = df.ix[sample_rows]\n",
    "    \n",
    "    X_train, X_valid, y_train, y_valid = train_test_split(df_sampled.drop(['id', 'target'], axis = 1),\n",
    "                                                          df_sampled.target, \n",
    "                                                          train_size=train_size)\n",
    "\n",
    "    return (X_train.astype(float), X_valid.astype(float),\n",
    "            y_train.astype(str), y_valid.astype(str))"
   ]
  },
  {
   "cell_type": "code",
   "execution_count": 100,
   "metadata": {
    "collapsed": false
   },
   "outputs": [],
   "source": [
    "X_train, X_valid, y_train, y_valid = load_train_data(pd.read_csv(\"data/train.csv\"))"
   ]
  },
  {
   "cell_type": "code",
   "execution_count": 44,
   "metadata": {
    "collapsed": true
   },
   "outputs": [],
   "source": [
    "sub = pd.read_csv(\"submissions/polishedAndBlended.csv\")"
   ]
  },
  {
   "cell_type": "code",
   "execution_count": null,
   "metadata": {
    "collapsed": true
   },
   "outputs": [],
   "source": []
  }
 ],
 "metadata": {
  "kernelspec": {
   "display_name": "Python 2",
   "language": "python",
   "name": "python2"
  },
  "language_info": {
   "codemirror_mode": {
    "name": "ipython",
    "version": 2
   },
   "file_extension": ".py",
   "mimetype": "text/x-python",
   "name": "python",
   "nbconvert_exporter": "python",
   "pygments_lexer": "ipython2",
   "version": "2.7.9"
  }
 },
 "nbformat": 4,
 "nbformat_minor": 0
}
